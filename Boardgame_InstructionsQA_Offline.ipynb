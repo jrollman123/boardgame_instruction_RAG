{
 "cells": [
  {
   "cell_type": "code",
   "execution_count": 1,
   "id": "f9b019b6-546e-4003-acc9-646ab2038774",
   "metadata": {},
   "outputs": [],
   "source": [
    "from langchain import HuggingFacePipeline\n",
    "from langchain import PromptTemplate, HuggingFaceHub, LLMChain\n",
    "import torch\n",
    "from instruct_pipeline import InstructionTextGenerationPipeline\n",
    "from transformers import AutoTokenizer, pipeline, AutoModelForSeq2SeqLM, AutoModel, AutoConfig\n",
    "from ctransformers import AutoModelForCausalLM\n",
    "from langchain.document_loaders import UnstructuredPDFLoader, OnlinePDFLoader, PyPDFLoader, PyPDFDirectoryLoader\n",
    "from langchain.text_splitter import RecursiveCharacterTextSplitter, CharacterTextSplitter, SentenceTransformersTokenTextSplitter\n",
    "from langchain.embeddings.sentence_transformer import SentenceTransformerEmbeddings\n",
    "from langchain.vectorstores import Chroma\n",
    "from langchain.chains.question_answering import load_qa_chain\n",
    "from langchain.llms import OpenAI, CTransformers\n",
    "import re\n",
    "import os"
   ]
  },
  {
   "cell_type": "code",
   "execution_count": null,
   "id": "9e109f51-3f63-4ba0-af36-279ac01a1d03",
   "metadata": {},
   "outputs": [],
   "source": [
    "torch.cuda.is_available()"
   ]
  },
  {
   "cell_type": "markdown",
   "id": "6ef47d1c-51cd-47e1-80ac-99c9b1e7fa07",
   "metadata": {},
   "source": [
    "## Import Data"
   ]
  },
  {
   "cell_type": "markdown",
   "id": "16591a5d-1922-4088-bbb0-6c5f909bf991",
   "metadata": {},
   "source": [
    "### Load PDF"
   ]
  },
  {
   "cell_type": "code",
   "execution_count": 4,
   "id": "84668d6f-4703-434c-81be-b5cdf401cafe",
   "metadata": {},
   "outputs": [
    {
     "name": "stdout",
     "output_type": "stream",
     "text": [
      "40 document(s) in your data\n"
     ]
    }
   ],
   "source": [
    "loader = PyPDFLoader(\"robinson_crusoe_rulebook.pdf\")\n",
    "data_raw = loader.load()\n",
    "print (f'{len(data_raw)} document(s) in your data')"
   ]
  },
  {
   "cell_type": "markdown",
   "id": "1da80f92-0827-4db5-a68e-7fc11c41e400",
   "metadata": {},
   "source": [
    "### Format Chunks"
   ]
  },
  {
   "cell_type": "code",
   "execution_count": 5,
   "id": "a5bbe13c-9135-4827-85dc-695b4e29bf23",
   "metadata": {},
   "outputs": [],
   "source": [
    "data = data_raw\n",
    "\n",
    "for text in data:\n",
    "    text.page_content = text.page_content.replace('•', ' ')\n",
    "    text.page_content = re.compile(r'\\,\\s{2,10}\\n').sub(', ',text.page_content)\n",
    "    text.page_content = re.compile(r'\\:\\s{2,10}\\n').sub(': ',text.page_content)\n",
    "    text.page_content = re.compile(r'\\.\\n').sub('. ',text.page_content)\n",
    "    text.page_content = re.compile(r'\\,\\n').sub(', ',text.page_content)\n",
    "    text.page_content = re.compile(r'\\:\\n').sub(': ',text.page_content)\n",
    "    text.page_content = text.page_content.replace(' . ',' ')\n",
    "    text.page_content = re.compile(r'[0-9][0-9][0-9]+').sub('',text.page_content)\n",
    "    \n",
    "text_splitter = RecursiveCharacterTextSplitter(separators = [\"\\n\\n\", \"\\n\",\".\"],chunk_size=750, chunk_overlap=10)\n",
    "\n",
    "texts = text_splitter.split_documents(data)\n",
    "\n",
    "for text in texts:\n",
    "    text.page_content = re.compile(r'\\n').sub('',text.page_content)\n",
    "    text.page_content = re.compile(r'\\s+').sub(' ',text.page_content)"
   ]
  },
  {
   "cell_type": "code",
   "execution_count": 6,
   "id": "8bfb7684-4b9b-4169-a8f3-ddfcfce1ea7c",
   "metadata": {
    "jupyter": {
     "source_hidden": true
    }
   },
   "outputs": [
    {
     "name": "stdout",
     "output_type": "stream",
     "text": [
      "40 document(s) in your data\n"
     ]
    }
   ],
   "source": [
    "print (f'{len(data)} document(s) in your data')"
   ]
  },
  {
   "cell_type": "markdown",
   "id": "03f634da-d7a3-4ffd-ad26-5c8363e70112",
   "metadata": {},
   "source": [
    "### Chunk Text"
   ]
  },
  {
   "cell_type": "code",
   "execution_count": 6,
   "id": "620c590d-be01-41d5-adef-391580c70c4c",
   "metadata": {},
   "outputs": [],
   "source": [
    "text_splitter = RecursiveCharacterTextSplitter(separators = [\"\\n\\n\", \"\\n\",\".\"],chunk_size=750, chunk_overlap=10)\n",
    "texts = text_splitter.split_documents(data)\n",
    "for text in texts:\n",
    "    text.page_content = re.compile(r'\\n').sub('',text.page_content)\n",
    "    text.page_content = re.compile(r'\\s+').sub(' ',text.page_content)"
   ]
  },
  {
   "cell_type": "code",
   "execution_count": 8,
   "id": "3c29bef9-e78f-47a0-8214-6858c6d1a2b3",
   "metadata": {},
   "outputs": [
    {
     "data": {
      "text/plain": [
       "'8I. EVENT PHASE You must work together to reach the scenario goal within the set number of rounds. Often, this requires building special Items or exploring specific locations (see the Scenario sheets and the appendix on pages 28-32). You must cooperate to overcome the obstacles; you only win as a group. If you do not manage to reach the scenario goal within the time limit, or if one of the characters dies, all players lose the game. A Game round comprises 6 Phases: 1. EVENT PHASEAn Event card is revealed and its Event Effect applied. The card is then placed in the right-hand Threat space, moving the other cards, which can trigger Threat Effects. Sometimes multiple cards may need to be drawn and resolved. 2. MORALE PHASE'"
      ]
     },
     "execution_count": 8,
     "metadata": {},
     "output_type": "execute_result"
    }
   ],
   "source": [
    "texts[30].page_content"
   ]
  },
  {
   "cell_type": "code",
   "execution_count": 7,
   "id": "1b89d66e-a6cb-46e7-8445-3676b4a89a15",
   "metadata": {},
   "outputs": [
    {
     "data": {
      "text/plain": [
       "Document(page_content='If this token is on an Action space, its effect triggers during the die roll of the next Action of this type (see page 16). If a success is rolled on the Success die, it must be rerolled, and then the token is discarded. The new result of the die is the one that is applied. If the die does not initially show a success, the token remains in place and applies to the next Action of this type (even in the same round). GAME FLOW', metadata={'source': 'robinson_crusoe_rulebook.pdf', 'page': 11})"
      ]
     },
     "execution_count": 7,
     "metadata": {},
     "output_type": "execute_result"
    }
   ],
   "source": [
    "texts[60]"
   ]
  },
  {
   "cell_type": "markdown",
   "id": "dc8ad872-c170-4306-8bec-ad01acb640ed",
   "metadata": {},
   "source": [
    "### Create Embeddings"
   ]
  },
  {
   "cell_type": "code",
   "execution_count": null,
   "id": "949b334d",
   "metadata": {},
   "outputs": [],
   "source": [
    "embedding_function = SentenceTransformerEmbeddings(model_name=\"multi-qa-MiniLM-L6-cos-v1\")"
   ]
  },
  {
   "cell_type": "markdown",
   "id": "47af06ea-2aeb-44c7-b0fa-93d49eff5f1c",
   "metadata": {},
   "source": [
    "### Load Embedding Vectors into Chroma DB"
   ]
  },
  {
   "cell_type": "code",
   "execution_count": 8,
   "id": "e62f2855-ce9b-4922-968c-d696252a42e8",
   "metadata": {},
   "outputs": [
    {
     "name": "stdout",
     "output_type": "stream",
     "text": [
      "Vector Store is Empty\n"
     ]
    }
   ],
   "source": [
    "try:\n",
    "    db._collection.name\n",
    "except:\n",
    "    print('Vector Store is Empty')\n",
    "else:\n",
    "    db._client.delete_collection(db._collection.name)\n",
    "finally:\n",
    "    db = Chroma.from_documents(texts, embedding_function)"
   ]
  },
  {
   "cell_type": "markdown",
   "id": "ef51111a-fe58-4f67-a83a-b27bcbd30785",
   "metadata": {},
   "source": [
    "#### Test Similarity Search"
   ]
  },
  {
   "cell_type": "code",
   "execution_count": 12,
   "id": "a6ec0c8f-086c-4bd6-8cb9-b09c9e29eb8d",
   "metadata": {},
   "outputs": [
    {
     "data": {
      "text/plain": [
       "'The Hunt Action provides you with food and possibly fur, but the resolving character is at risk of suffering wounds if the Weapon level is not high enough. This Action can be resolved once per Beast card in the Hunting deck, as each Beast can only be hunted once. Once the Hunting deck is empty, this Action can no longer be taken, but as long as enough cards are available, the Action can be resolved multiple times per round. Each Hunt Action requires exactly 2 Action pawns. For each Hunt Action, the Action pawns are placed in the Action space stacked on top of each other, with the character owning the topmost Action pawn resolving the Action. When the Action is resolved, the topmost Beast card is drawn from the Hunting'"
      ]
     },
     "execution_count": 12,
     "metadata": {},
     "output_type": "execute_result"
    }
   ],
   "source": [
    "query = \"How is the Dog played?\"\n",
    "docs = db.similarity_search(query)\n",
    "docs[3].page_content"
   ]
  },
  {
   "cell_type": "code",
   "execution_count": null,
   "id": "866ce0e1",
   "metadata": {},
   "outputs": [],
   "source": [
    "local_llm_2 = CTransformers(model='TheBloke/Llama-2-13B-chat-GGML', \n",
    "                            model_file='llama-2-13b-chat.ggmlv3.q4_K_M.bin', \n",
    "                            config={\"temperature\" : .1})"
   ]
  },
  {
   "cell_type": "code",
   "execution_count": 9,
   "id": "08a8701c-80ff-4ae8-8a33-df6995447f5f",
   "metadata": {},
   "outputs": [],
   "source": [
    "prompt_template = \"\"\" Use the following pieces of context to answer the question at the end.\n",
    "\n",
    "{context}\n",
    "\n",
    "Question: {question}\n",
    "Answer: \"\"\"\n",
    "\n",
    "PROMPT = PromptTemplate(\n",
    "    template=prompt_template, input_variables=[\"context\", \"question\"]\n",
    ")"
   ]
  },
  {
   "cell_type": "code",
   "execution_count": 10,
   "id": "70762a2d-217b-49e4-9cd1-3c142468998d",
   "metadata": {},
   "outputs": [],
   "source": [
    "query = \"How is the Dog played?\"\n",
    "docs = db.similarity_search(query)"
   ]
  },
  {
   "cell_type": "code",
   "execution_count": 10,
   "id": "1e728b26-9e25-43d0-af37-92fdd87785bb",
   "metadata": {
    "scrolled": true
   },
   "outputs": [
    {
     "name": "stdout",
     "output_type": "stream",
     "text": [
      "[Document(page_content='The Dog is represented by his card and 1 purple Action pawn. In a solo game, place his card next to the board and the Action pawn on it. He is used like a neutral Action pawn in all respects. He can be used every round for either the Hunt or Explore actions only. Dog’s Action pawn need not be assigned to any Action if the players do not wish it. He cannot die. VARIANTSEASIER GAMEIf players think a scenario is too hard for them, they can make it easier by: Adding the Dog. This is especially recommended for 3 players. Adding Friday Drawing more Starting Equipment Using fewer Event cards with the book symbol and more Event cards with the adventure symbol when creating the deck (step 15 of the setup). For example, using 4', metadata={'page': 26, 'source': 'robinson_crusoe_rulebook.pdf'}), Document(page_content='2 PLAYERSIf players randomly draw characters, it is recommended they should select from the carpenter, cook and explorer. The special abilities of the soldier are less useful in the 2-player game for most scenarios. The 2-player game also adds an additional character - Friday. When setting up the game, place Friday next to the board in reach of both players and place the white Action pawn representing Friday on it. Friday is explained in greater detail on page 27. SOLOThe solo variant uses the same rules as the 2-player game. Additionally, the sole character also has the Dog available alongside Friday. The Dog’s card is placed next to the board and the purple Action pawn placed on it.', metadata={'page': 25, 'source': 'robinson_crusoe_rulebook.pdf'}), Document(page_content='2-player game, place his card next to the board and the Action pawn on it. Place a Wound marker on the square space on the left of his Wound track. Friday counts as an additional character, but has the following rules: Friday can never be the First Player. Friday is not affected by Event cards - neither immediate nor Threat Events Exception: the Argument card, see appendix. Friday can be assigned to any Action. If it is successful, it is resolved like any other character’s Action. Friday can be assigned to an Action as the only Action pawn or with neutral Action pawns (including the Dog). If Friday is assigned to an Action along with another player’s Action pawn, he may only support. In this case, the character always resolves th', metadata={'page': 26, 'source': 'robinson_crusoe_rulebook.pdf'})]\n"
     ]
    }
   ],
   "source": [
    "print(docs[0:3])"
   ]
  },
  {
   "cell_type": "markdown",
   "id": "06209c9b-8824-4e61-bc2c-97a3d4b9240f",
   "metadata": {},
   "source": [
    "### Stuff Method"
   ]
  },
  {
   "cell_type": "code",
   "execution_count": 11,
   "id": "99076909-36bc-4a6b-a0b4-02a059b960ed",
   "metadata": {},
   "outputs": [],
   "source": [
    "chain = load_qa_chain(local_llm_2, chain_type=\"stuff\", prompt=PROMPT)"
   ]
  },
  {
   "cell_type": "code",
   "execution_count": null,
   "id": "33b392f2-0b08-49ea-a868-069de611e900",
   "metadata": {
    "scrolled": true
   },
   "outputs": [],
   "source": [
    "stuff_result = chain.run(input_documents=docs{0:1}, question=query)"
   ]
  },
  {
   "cell_type": "code",
   "execution_count": 83,
   "id": "b1596948-6bc6-4925-bad2-3f0e1733aeb7",
   "metadata": {},
   "outputs": [
    {
     "name": "stdout",
     "output_type": "stream",
     "text": [
      " The Dog is played like a neutral Action pawn that can be used every round for either the Hunt or Explore actions only. It cannot die and is placed next to the board with one purple Action pawn on it.\n"
     ]
    }
   ],
   "source": [
    "print(stuff_result)"
   ]
  },
  {
   "cell_type": "markdown",
   "id": "a79bed19-3013-4a57-810e-41ebe23792cd",
   "metadata": {},
   "source": [
    "### Map-Reduce Method"
   ]
  },
  {
   "cell_type": "code",
   "execution_count": 73,
   "id": "bca5e2b1-0dbe-4619-a8cb-b2c49621afbb",
   "metadata": {},
   "outputs": [],
   "source": [
    "question_prompt_template = \"\"\"Use the following portion of a long document to see if any of the text is relevant to answer the question. \n",
    "Return any relevant text.\n",
    "{context}\n",
    "Question: {question}\n",
    "Relevant text, if any:\"\"\"\n",
    "QUESTION_PROMPT = PromptTemplate(\n",
    "    template=question_prompt_template, input_variables=[\"context\", \"question\"]\n",
    ")\n",
    "\n",
    "combine_prompt_template = \"\"\"Given the following extracted parts of a long document and a question, create a final answer.\n",
    "\n",
    "QUESTION: {question}\n",
    "=========\n",
    "{summaries}\n",
    "=========\n",
    "Answer:\"\"\"\n",
    "COMBINE_PROMPT = PromptTemplate(\n",
    "    template=combine_prompt_template, input_variables=[\"summaries\", \"question\"]\n",
    ")\n"
   ]
  },
  {
   "cell_type": "code",
   "execution_count": 74,
   "id": "b60448fa-fa2e-41a2-ae66-db169df128a7",
   "metadata": {},
   "outputs": [],
   "source": [
    "chain = load_qa_chain(local_llm_2, chain_type=\"map_reduce\", question_prompt=QUESTION_PROMPT, combine_prompt=COMBINE_PROMPT)"
   ]
  },
  {
   "cell_type": "code",
   "execution_count": 75,
   "id": "6e441e36-80fd-4a5f-8b8c-1446f50c89ce",
   "metadata": {},
   "outputs": [],
   "source": [
    "map_reduce_result = chain.run(input_documents=docs, question=query)"
   ]
  },
  {
   "cell_type": "code",
   "execution_count": 76,
   "id": "f3d756a7-56f4-43f0-9ebe-909874118d25",
   "metadata": {},
   "outputs": [
    {
     "name": "stdout",
     "output_type": "stream",
     "text": [
      " In a solo game, the Dog can be used as a neutral Action pawn like any other, and it is recommended to use it with caution due to the risk of suffering wounds if the Weapon level is not high enough when using the Hunt Action.\n"
     ]
    }
   ],
   "source": [
    "print(map_reduce_result)"
   ]
  },
  {
   "cell_type": "code",
   "execution_count": 27,
   "id": "aa68d82d-a74e-4584-b343-5a2f2ad0aca2",
   "metadata": {
    "hide_input": false
   },
   "outputs": [],
   "source": [
    "OPENAI_API_KEY = os.environ.get('OPENAI_API_KEY')"
   ]
  },
  {
   "cell_type": "code",
   "execution_count": 67,
   "id": "35b7f439-0118-46e4-8469-8644b4f1ec0b",
   "metadata": {},
   "outputs": [],
   "source": [
    "llm = OpenAI(temperature=.1, openai_api_key=OPENAI_API_KEY)\n",
    "chain = load_qa_chain(llm, chain_type=\"stuff\", prompt=PROMPT)"
   ]
  },
  {
   "cell_type": "code",
   "execution_count": 68,
   "id": "b20f1674-bb3d-4e37-af41-7870f99a9e01",
   "metadata": {},
   "outputs": [],
   "source": [
    "GPT_result = chain.run(input_documents=docs, question=query)"
   ]
  },
  {
   "cell_type": "code",
   "execution_count": 69,
   "id": "6162b049-c187-4c25-91a2-429b25128d87",
   "metadata": {},
   "outputs": [
    {
     "name": "stdout",
     "output_type": "stream",
     "text": [
      " The Dog is used like a neutral Action pawn in all respects. He can be used every round for either the Hunt or Explore actions only. Dog’s Action pawn need not be assigned to any Action if the players do not wish it. He cannot die.\n"
     ]
    }
   ],
   "source": [
    "print(GPT_result)"
   ]
  }
 ],
 "metadata": {
  "kernelspec": {
   "display_name": "Python 3 (ipykernel)",
   "language": "python",
   "name": "python3"
  },
  "language_info": {
   "codemirror_mode": {
    "name": "ipython",
    "version": 3
   },
   "file_extension": ".py",
   "mimetype": "text/x-python",
   "name": "python",
   "nbconvert_exporter": "python",
   "pygments_lexer": "ipython3",
   "version": "3.10.12"
  }
 },
 "nbformat": 4,
 "nbformat_minor": 5
}

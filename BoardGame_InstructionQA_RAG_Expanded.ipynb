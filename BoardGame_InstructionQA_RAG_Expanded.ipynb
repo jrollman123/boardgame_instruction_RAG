{
 "cells": [
  {
   "cell_type": "markdown",
   "id": "8d2b2774-494b-44c1-85bf-da48b599bf56",
   "metadata": {},
   "source": [
    "# Creating a Boardgame Instructions CoPilot with LLMs"
   ]
  },
  {
   "cell_type": "markdown",
   "id": "b3aa3eb4-8f3e-438b-91cc-477eadb04db3",
   "metadata": {},
   "source": [
    "## Packages"
   ]
  },
  {
   "cell_type": "code",
   "execution_count": null,
   "id": "2d3e92ed",
   "metadata": {
    "scrolled": true
   },
   "outputs": [],
   "source": [
    "import warnings\n",
    "warnings.filterwarnings(\"ignore\")\n",
    "from langchain import HuggingFacePipeline\n",
    "from langchain import PromptTemplate, HuggingFaceHub, LLMChain\n",
    "import torch\n",
    "#from instruct_pipeline import InstructionTextGenerationPipeline LlamaForCausalLM, LlamaTokenizer,\n",
    "from transformers import AutoTokenizer, pipeline, AutoModelForSeq2SeqLM, AutoModel, AutoConfig, AutoModelForCausalLM, LlamaTokenizer, LlamaForCausalLM, BitsAndBytesConfig\n",
    "#from ctransformers import AutoModelForCausalLM\n",
    "from langchain.document_loaders import UnstructuredPDFLoader, OnlinePDFLoader, PyPDFLoader, PyPDFDirectoryLoader, BSHTMLLoader, TextLoader, DirectoryLoader\n",
    "from langchain.document_loaders.csv_loader import CSVLoader\n",
    "from langchain.text_splitter import RecursiveCharacterTextSplitter, CharacterTextSplitter, SentenceTransformersTokenTextSplitter\n",
    "from langchain.embeddings.sentence_transformer import SentenceTransformerEmbeddings\n",
    "from langchain.vectorstores import FAISS\n",
    "from langchain.chains.question_answering import load_qa_chain\n",
    "from langchain.chains import LLMChain, TransformChain, SimpleSequentialChain, SequentialChain, RetrievalQA\n",
    "from langchain.llms import CTransformers\n",
    "import re\n",
    "import os\n",
    "import gc"
   ]
  },
  {
   "cell_type": "markdown",
   "id": "0704042b-96ca-4cb6-aa87-73ba906e54d8",
   "metadata": {},
   "source": [
    "## Import Context Data"
   ]
  },
  {
   "cell_type": "markdown",
   "id": "7c6d12ce-8114-4581-9ebb-b9c72ae515fd",
   "metadata": {},
   "source": [
    "### Load PDF"
   ]
  },
  {
   "cell_type": "code",
   "execution_count": null,
   "id": "34c29644-3aed-4898-8573-ffeda0441c66",
   "metadata": {},
   "outputs": [],
   "source": [
    "loader = PyPDFLoader(\"robinson_crusoe_rulebook.pdf\")\n",
    "data_raw = loader.load()\n",
    "print (f'{len(data_raw)} document(s) in your data')"
   ]
  },
  {
   "cell_type": "markdown",
   "id": "2d27316a-a63a-4219-be80-674ea6bc2c70",
   "metadata": {},
   "source": [
    "### Format Chunks"
   ]
  },
  {
   "cell_type": "code",
   "execution_count": null,
   "id": "c591c0ad-b097-45ca-bd45-3cd80f025e95",
   "metadata": {},
   "outputs": [],
   "source": [
    "data = data_raw\n",
    "\n",
    "for text in data:\n",
    "    text.page_content = text.page_content.replace('•', ' ')\n",
    "    text.page_content = re.compile(r'\\,\\s{2,10}\\n').sub(', ',text.page_content)\n",
    "    text.page_content = re.compile(r'\\:\\s{2,10}\\n').sub(': ',text.page_content)\n",
    "    text.page_content = re.compile(r'\\.\\n').sub('. ',text.page_content)\n",
    "    text.page_content = re.compile(r'\\,\\n').sub(', ',text.page_content)\n",
    "    text.page_content = re.compile(r'\\:\\n').sub(': ',text.page_content)\n",
    "    text.page_content = text.page_content.replace(' . ',' ')\n",
    "    text.page_content = re.compile(r'[0-9][0-9][0-9]+').sub('',text.page_content)\n",
    "    \n",
    "text_splitter = RecursiveCharacterTextSplitter(separators = [\"\\n\\n\",\"\\n\",\".\"], chunk_size=400, chunk_overlap=10)\n",
    "\n",
    "texts = text_splitter.split_documents(data)\n",
    "\n",
    "for text in texts:\n",
    "    text.page_content = re.compile(r'\\n').sub('',text.page_content)\n",
    "    text.page_content = re.compile(r'\\s+').sub(' ',text.page_content)"
   ]
  },
  {
   "cell_type": "code",
   "execution_count": null,
   "id": "02fa0378-f294-427b-bb71-eb80edfd67ab",
   "metadata": {},
   "outputs": [],
   "source": [
    "print (f'{len(texts)} document(s) in your data')"
   ]
  },
  {
   "cell_type": "markdown",
   "id": "2f27417d-ed91-4665-ad7e-b1cb8881815e",
   "metadata": {},
   "source": [
    "## Encode and Store Context"
   ]
  },
  {
   "cell_type": "markdown",
   "id": "b4eef2a3-aedb-44b6-923a-815cf5b25c04",
   "metadata": {},
   "source": [
    "### Choose an Embedding Function"
   ]
  },
  {
   "cell_type": "code",
   "execution_count": null,
   "id": "fe3d3cad-affe-46a1-a74f-e39fa0ce1817",
   "metadata": {
    "scrolled": true
   },
   "outputs": [],
   "source": [
    "embedding_function1 = SentenceTransformerEmbeddings(model_name = 'llm_models/torch/sentence_transformers/sentence-transformers_all-MiniLM-L6-v2', model_kwargs = {'device': 'cpu'})\n",
    "\n",
    "embedding_function2 = SentenceTransformerEmbeddings(model_name=\"llm_models/torch/sentence_transformers/sentence-transformers_multi-qa-MiniLM-L6-cos-v1\", model_kwargs = {'device': 'cpu'})"
   ]
  },
  {
   "cell_type": "markdown",
   "id": "6514622e-bbd7-45e2-ae12-30bfa6e1ca21",
   "metadata": {},
   "source": [
    "### Load Embedding Vectors into FAISS"
   ]
  },
  {
   "cell_type": "code",
   "execution_count": null,
   "id": "f7b5e284-5133-4c62-b2a9-b2193a33a7a1",
   "metadata": {},
   "outputs": [],
   "source": [
    "db1 = FAISS.from_documents(texts, embedding_function1)"
   ]
  },
  {
   "cell_type": "code",
   "execution_count": null,
   "id": "6668f184-c2fa-4d40-8ec0-fe5e047b5a6b",
   "metadata": {},
   "outputs": [],
   "source": [
    "db2 = FAISS.from_documents(texts, embedding_function2)"
   ]
  },
  {
   "cell_type": "markdown",
   "id": "52bac163-5e54-4848-ab7b-e628f1651d51",
   "metadata": {},
   "source": [
    "### Test Similarity Search"
   ]
  },
  {
   "cell_type": "code",
   "execution_count": null,
   "id": "94081922-e136-4d82-8b40-2ae9f1599bf9",
   "metadata": {},
   "outputs": [],
   "source": [
    "query = \"When can a player use their character's abilities?\""
   ]
  },
  {
   "cell_type": "code",
   "execution_count": null,
   "id": "7828e6b2-1826-42ba-a0a6-8fb2ff9acccf",
   "metadata": {},
   "outputs": [],
   "source": [
    "docs = db1.similarity_search(query)\n",
    "docs[0]"
   ]
  },
  {
   "cell_type": "code",
   "execution_count": null,
   "id": "2ed31cf6-b66f-4adc-9f0e-b5821a036a96",
   "metadata": {
    "scrolled": true
   },
   "outputs": [],
   "source": [
    "docs = db2.similarity_search(query)\n",
    "docs[0]"
   ]
  },
  {
   "cell_type": "markdown",
   "id": "484c1222-8159-4322-92ba-a8b8ce7fce7d",
   "metadata": {},
   "source": [
    "## Instantiate LLM"
   ]
  },
  {
   "cell_type": "code",
   "execution_count": null,
   "id": "a7003c9b-7d10-4ad3-a19a-792b0a0793f3",
   "metadata": {},
   "outputs": [],
   "source": [
    "mpath = 'llm_models/Llama-2-7b-chat-hf'"
   ]
  },
  {
   "cell_type": "code",
   "execution_count": null,
   "id": "70243a34-3f0e-49f8-9d9b-7246800de187",
   "metadata": {},
   "outputs": [],
   "source": [
    "#config = AutoConfig.from_pretrained(mpath)\n",
    "max_memory_mapping = {0: \"2GB\", 1: \"12GB\"}\n",
    "tokenizer = LlamaTokenizer.from_pretrained(mpath)\n",
    "model = LlamaForCausalLM.from_pretrained(mpath, load_in_8bit=True, device_map='auto', max_memory=max_memory_mapping)"
   ]
  },
  {
   "cell_type": "code",
   "execution_count": null,
   "id": "959d69a0-a60f-4e1c-a8ef-9d094f4e99d4",
   "metadata": {},
   "outputs": [],
   "source": [
    "torch.cuda.device_count()"
   ]
  },
  {
   "cell_type": "code",
   "execution_count": null,
   "id": "fdd01355-43d3-43c4-9436-7c790eb0901c",
   "metadata": {},
   "outputs": [],
   "source": [
    "lp = pipeline(\n",
    "    task=\"text-generation\",\n",
    "    model=model,\n",
    "    tokenizer=tokenizer,\n",
    "    max_new_tokens = 300,\n",
    "    temperature = 0.3,\n",
    "    top_p=0.6,\n",
    "    repetition_penalty=1.1,\n",
    "    device_map='auto'\n",
    "    )"
   ]
  },
  {
   "cell_type": "code",
   "execution_count": null,
   "id": "43eade0a-faed-47d2-8c13-bfc90339ba22",
   "metadata": {},
   "outputs": [],
   "source": [
    "llm = HuggingFacePipeline(pipeline=lp)"
   ]
  },
  {
   "cell_type": "markdown",
   "id": "8d52a65b-5766-4e69-92b1-5622d5f3a981",
   "metadata": {},
   "source": [
    "## Create LLM Pipeline Interface"
   ]
  },
  {
   "cell_type": "markdown",
   "id": "3c35dcd9",
   "metadata": {},
   "source": [
    "### Create a Prompt Template and Chain: 'Stuff Method'"
   ]
  },
  {
   "cell_type": "code",
   "execution_count": null,
   "id": "b8f8c214-1c38-4173-80cd-589844eed608",
   "metadata": {},
   "outputs": [],
   "source": [
    "prompt_template = \"\"\"Act as a helpful and knowledgeable assistant. Use the following pieces of context and your knowledge of board games to answer the question at the end. If you don't know the answer, just say that you don't know, don't try to make up an answer.\n",
    "\n",
    "{context}\n",
    "\n",
    "Question: {question}\n",
    "Answer: \"\"\"\n",
    "\n",
    "PROMPT = PromptTemplate(\n",
    "    template=prompt_template, input_variables=[\"context\", \"question\"]\n",
    ")"
   ]
  },
  {
   "cell_type": "code",
   "execution_count": null,
   "id": "d9beea51-3223-4c78-b683-00f47337f404",
   "metadata": {},
   "outputs": [],
   "source": [
    "stuff_chain = load_qa_chain(llm, chain_type=\"stuff\", prompt=PROMPT)"
   ]
  },
  {
   "cell_type": "markdown",
   "id": "ef07db13-c3e3-40e1-9321-a90d16fb9328",
   "metadata": {},
   "source": [
    "### Create a Prompt Template and Chain: 'Refine Method'"
   ]
  },
  {
   "cell_type": "code",
   "execution_count": null,
   "id": "f1ae065e-2fe9-408d-ae19-f666e5d49d25",
   "metadata": {},
   "outputs": [],
   "source": [
    "prompt_template = \"\"\"Act as a helpful and knowledgeable assistant. Use the following pieces of context and your knowledge of board games to answer the question at the end. If you don't know the answer, just say that you don't know, don't try to make up an answer.\n",
    "\n",
    "{context_str}\n",
    "\n",
    "Question: {question}\n",
    "Answer: \"\"\"\n",
    "\n",
    "refine_PROMPT = PromptTemplate(\n",
    "    template=prompt_template, input_variables=[\"context_str\", \"question\"]\n",
    ")"
   ]
  },
  {
   "cell_type": "code",
   "execution_count": null,
   "id": "77c2240b-ed6a-4f7d-968b-9c2e55066424",
   "metadata": {},
   "outputs": [],
   "source": [
    "refine_chain = load_qa_chain(llm, chain_type=\"refine\", question_prompt=refine_PROMPT, return_refine_steps=True)"
   ]
  },
  {
   "cell_type": "markdown",
   "id": "54c54569-064b-4fc4-a24e-815e2657b621",
   "metadata": {},
   "source": [
    "### Create a Prompt Template and Chain: 'Map-Rerank Method'"
   ]
  },
  {
   "cell_type": "code",
   "execution_count": null,
   "id": "540b9c6f-4c95-4efc-b0f5-efef330bc129",
   "metadata": {},
   "outputs": [],
   "source": [
    "rank_chain = load_qa_chain(llm, chain_type=\"map_rerank\", return_intermediate_steps=True)"
   ]
  },
  {
   "cell_type": "markdown",
   "id": "e604d0da-c520-48e3-8d72-bcac99719f19",
   "metadata": {},
   "source": [
    "### Create a Prompt Template and Chain: 'Map-Reduce Method'"
   ]
  },
  {
   "cell_type": "code",
   "execution_count": null,
   "id": "f9e587a1-9c59-4b10-8e7d-1325e6bcd099",
   "metadata": {},
   "outputs": [],
   "source": [
    "question_prompt_template = \"\"\"Act as a helpful and knowledgeable assistant. Use the following pieces of context and your knowledge of board games to see if any of the text is relevant to answer the question. \n",
    "Return any relevant text.\n",
    "{context}\n",
    "Question: {question}\n",
    "Relevant text, if any:\"\"\"\n",
    "QUESTION_PROMPT = PromptTemplate(\n",
    "    template=question_prompt_template, input_variables=[\"context\", \"question\"]\n",
    ")\n",
    "\n",
    "combine_prompt_template = \"\"\"Act as a helpful and knowledgeable assistant. Use the following extracted parts of the instructions and your knowledge of board games to create a final answer.\n",
    "\n",
    "QUESTION: {question}\n",
    "=========\n",
    "{summaries}\n",
    "=========\n",
    "Answer:\"\"\"\n",
    "COMBINE_PROMPT = PromptTemplate(\n",
    "    template=combine_prompt_template, input_variables=[\"summaries\", \"question\"]\n",
    ")\n"
   ]
  },
  {
   "cell_type": "code",
   "execution_count": null,
   "id": "be62c51a-3980-4d76-9c38-eba0b84375bf",
   "metadata": {},
   "outputs": [],
   "source": [
    "mr_chain = load_qa_chain(llm, chain_type=\"map_reduce\", question_prompt=QUESTION_PROMPT, combine_prompt=COMBINE_PROMPT)"
   ]
  },
  {
   "cell_type": "markdown",
   "id": "802f631e-c042-4638-b292-5187ac07293c",
   "metadata": {},
   "source": [
    "## Run LLM with Document Query"
   ]
  },
  {
   "cell_type": "code",
   "execution_count": null,
   "id": "308cda04-5916-4378-8837-a67c65237751",
   "metadata": {},
   "outputs": [],
   "source": [
    "query = \"When can a player use their character's abilities?\""
   ]
  },
  {
   "cell_type": "code",
   "execution_count": null,
   "id": "f67ea7c2",
   "metadata": {},
   "outputs": [],
   "source": [
    "docs = db1.similarity_search(query)\n",
    "docs[0]"
   ]
  },
  {
   "cell_type": "markdown",
   "id": "f2e4beb6-5ed5-4a16-a91c-a06e559c1527",
   "metadata": {},
   "source": [
    "### Stuff Method Results"
   ]
  },
  {
   "cell_type": "code",
   "execution_count": null,
   "id": "4542d144-70e3-4213-a015-b77d87b4ce37",
   "metadata": {
    "scrolled": true
   },
   "outputs": [],
   "source": [
    "stuff_result = stuff_chain({\"input_documents\": docs, \"question\": query},return_only_outputs=True)"
   ]
  },
  {
   "cell_type": "code",
   "execution_count": null,
   "id": "f7fd2bc4-c593-4141-927f-91c923ddc621",
   "metadata": {},
   "outputs": [],
   "source": [
    "stuff_result"
   ]
  },
  {
   "cell_type": "markdown",
   "id": "7bb42527-2922-4af5-af51-f07bcdfe4c87",
   "metadata": {},
   "source": [
    "### Refine Method Result"
   ]
  },
  {
   "cell_type": "code",
   "execution_count": null,
   "id": "cfad55dc-9895-4b48-bcd8-dbf4563f7352",
   "metadata": {
    "scrolled": true
   },
   "outputs": [],
   "source": [
    "refine_result = refine_chain({\"input_documents\": docs, \"question\": query},return_only_outputs=True)"
   ]
  },
  {
   "cell_type": "code",
   "execution_count": null,
   "id": "1f9ef84f-3b7d-446e-a0f4-9c832dd40d9a",
   "metadata": {},
   "outputs": [],
   "source": [
    "print(refine_result)"
   ]
  },
  {
   "cell_type": "markdown",
   "id": "1170643c-e8c9-478f-bbc2-6585e853856e",
   "metadata": {},
   "source": [
    "### Map-Rerank Method Result"
   ]
  },
  {
   "cell_type": "code",
   "execution_count": null,
   "id": "879ad077-ff14-4933-87e4-515de5e9519b",
   "metadata": {
    "scrolled": true
   },
   "outputs": [],
   "source": [
    "rank_result = rank_chain({\"input_documents\": docs, \"question\": query},return_only_outputs=True)"
   ]
  },
  {
   "cell_type": "code",
   "execution_count": null,
   "id": "215869ad-7426-4b71-bcfc-86152209c041",
   "metadata": {},
   "outputs": [],
   "source": [
    "print(rank_result)"
   ]
  },
  {
   "cell_type": "markdown",
   "id": "e526e2a8-6a13-48be-a24c-3930d47b10e7",
   "metadata": {},
   "source": [
    "### Map-Reduce Method Result"
   ]
  },
  {
   "cell_type": "code",
   "execution_count": null,
   "id": "b5c3300d-80ce-4768-b89b-13b80cf4fabe",
   "metadata": {},
   "outputs": [],
   "source": [
    "# map_reduce_result = mr_chain({\"input_documents\": docs, \"question\": query})\n",
    "# mr_chain = RetrievalQA.from_chain_type(llm,retriever=db1.as_retriever(),\n",
    "#                                        chain_type=\"map_reduce\")\n",
    "# result = mr_chain({\"query\": query})"
   ]
  },
  {
   "cell_type": "code",
   "execution_count": null,
   "id": "926184b3-258c-435c-939a-ca3316fb4644",
   "metadata": {},
   "outputs": [],
   "source": [
    "# print(map_reduce_result)"
   ]
  }
 ],
 "metadata": {
  "kernelspec": {
   "display_name": "Python 3 (ipykernel)",
   "language": "python",
   "name": "python3"
  },
  "language_info": {
   "codemirror_mode": {
    "name": "ipython",
    "version": 3
   },
   "file_extension": ".py",
   "mimetype": "text/x-python",
   "name": "python",
   "nbconvert_exporter": "python",
   "pygments_lexer": "ipython3",
   "version": "3.10.12"
  }
 },
 "nbformat": 4,
 "nbformat_minor": 5
}

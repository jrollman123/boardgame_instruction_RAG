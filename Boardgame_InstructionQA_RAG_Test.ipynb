{
 "cells": [
  {
   "cell_type": "code",
   "execution_count": 8,
   "id": "f9b019b6-546e-4003-acc9-646ab2038774",
   "metadata": {},
   "outputs": [],
   "source": [
    "from langchain import HuggingFacePipeline\n",
    "from langchain import PromptTemplate, HuggingFaceHub, LLMChain\n",
    "import torch\n",
    "from instruct_pipeline import InstructionTextGenerationPipeline\n",
    "from transformers import AutoTokenizer, AutoModelForCausalLM, pipeline, AutoModelForSeq2SeqLM\n",
    "\n",
    "from langchain.document_loaders import UnstructuredPDFLoader, OnlinePDFLoader, PyPDFLoader, PyPDFDirectoryLoader\n",
    "from langchain.text_splitter import RecursiveCharacterTextSplitter,  CharacterTextSplitter, SentenceTransformersTokenTextSplitter\n",
    "from langchain.embeddings.sentence_transformer import SentenceTransformerEmbeddings\n",
    "from langchain.vectorstores import Chroma\n",
    "from langchain.chains.question_answering import load_qa_chain\n",
    "from langchain.llms import OpenAI\n",
    "import os"
   ]
  },
  {
   "cell_type": "code",
   "execution_count": 2,
   "id": "9e109f51-3f63-4ba0-af36-279ac01a1d03",
   "metadata": {},
   "outputs": [
    {
     "data": {
      "text/plain": [
       "False"
      ]
     },
     "execution_count": 2,
     "metadata": {},
     "output_type": "execute_result"
    }
   ],
   "source": [
    "torch.cuda.is_available()"
   ]
  },
  {
   "cell_type": "markdown",
   "id": "6ef47d1c-51cd-47e1-80ac-99c9b1e7fa07",
   "metadata": {},
   "source": [
    "## Import Data"
   ]
  },
  {
   "cell_type": "markdown",
   "id": "16591a5d-1922-4088-bbb0-6c5f909bf991",
   "metadata": {},
   "source": [
    "### Load PDF"
   ]
  },
  {
   "cell_type": "code",
   "execution_count": 9,
   "id": "84668d6f-4703-434c-81be-b5cdf401cafe",
   "metadata": {},
   "outputs": [],
   "source": [
    "loader = PyPDFLoader(\"robinson_crusoe_rulebook.pdf\")\n",
    "data = loader.load()"
   ]
  },
  {
   "cell_type": "code",
   "execution_count": 10,
   "id": "109ec272-e016-4719-878e-a38547a42785",
   "metadata": {},
   "outputs": [
    {
     "name": "stdout",
     "output_type": "stream",
     "text": [
      "40 document(s) in your data\n"
     ]
    }
   ],
   "source": [
    "# Note: If you're using PyPDFLoader then it will split by page for you already\n",
    "print (f'{len(data)} document(s) in your data')"
   ]
  },
  {
   "cell_type": "markdown",
   "id": "03f634da-d7a3-4ffd-ad26-5c8363e70112",
   "metadata": {},
   "source": [
    "### Chunk Text"
   ]
  },
  {
   "cell_type": "code",
   "execution_count": 11,
   "id": "c9482d2e-9579-404f-bed5-26cc2c2c2a13",
   "metadata": {},
   "outputs": [],
   "source": [
    "text_splitter = RecursiveCharacterTextSplitter(chunk_size=1000, chunk_overlap=0)\n",
    "\n",
    "# Split by token\n",
    "# text_splitter = CharacterTextSplitter.from_tiktoken_encoder(\n",
    "#     chunk_size=500, chunk_overlap=20\n",
    "# )\n",
    "\n",
    "texts = text_splitter.split_documents(data)"
   ]
  },
  {
   "cell_type": "code",
   "execution_count": 12,
   "id": "37158b96-77cd-48f6-876a-b30829698219",
   "metadata": {},
   "outputs": [
    {
     "name": "stdout",
     "output_type": "stream",
     "text": [
      "176 documents\n"
     ]
    }
   ],
   "source": [
    "print (f'{len(texts)} documents')"
   ]
  },
  {
   "cell_type": "markdown",
   "id": "dc8ad872-c170-4306-8bec-ad01acb640ed",
   "metadata": {},
   "source": [
    "### Create Embeddings"
   ]
  },
  {
   "cell_type": "code",
   "execution_count": 13,
   "id": "612c5412-3abb-47d7-8f75-859c3665016b",
   "metadata": {
    "scrolled": true
   },
   "outputs": [],
   "source": [
    "# replacing  OpenAI Embedding with open source?\n",
    "embedding_function = SentenceTransformerEmbeddings(model_name=\"all-MiniLM-L6-v2\")"
   ]
  },
  {
   "cell_type": "markdown",
   "id": "47af06ea-2aeb-44c7-b0fa-93d49eff5f1c",
   "metadata": {},
   "source": [
    "### Load Embedding Vectors into Chroma DB"
   ]
  },
  {
   "cell_type": "code",
   "execution_count": 14,
   "id": "e62f2855-ce9b-4922-968c-d696252a42e8",
   "metadata": {},
   "outputs": [],
   "source": [
    "db = Chroma.from_documents(texts, embedding_function)"
   ]
  },
  {
   "cell_type": "markdown",
   "id": "ef51111a-fe58-4f67-a83a-b27bcbd30785",
   "metadata": {},
   "source": [
    "#### Test Similarity Search"
   ]
  },
  {
   "cell_type": "code",
   "execution_count": 9,
   "id": "a6ec0c8f-086c-4bd6-8cb9-b09c9e29eb8d",
   "metadata": {},
   "outputs": [],
   "source": [
    "query = \"What does the dog do?\"\n",
    "docs = db.similarity_search(query)"
   ]
  },
  {
   "cell_type": "code",
   "execution_count": 10,
   "id": "d1253768-1124-4182-8a59-08f710b41a6f",
   "metadata": {
    "scrolled": true
   },
   "outputs": [
    {
     "name": "stdout",
     "output_type": "stream",
     "text": [
      "The Dog is represented by his card and 1 purple Action pawn. In a solo game, place his card next to the board and the Action pawn on it. He is used like a neutral Action pawn in all respects. He can be used every round for either the Hunt or Explore actions only. Dog’s Action pawn need not be assigned to any Action if the players do not wish it. He cannot die.\n",
      "VARIANTS\n",
      "EASIER GAME\n",
      "If players think a scenario is too hard for them, they can make it easier by:\n"
     ]
    }
   ],
   "source": [
    "# Highest Ranked Chunk\n",
    "print(docs[0].page_content)"
   ]
  },
  {
   "cell_type": "code",
   "execution_count": 14,
   "id": "28cca43d-21b5-4f5e-97c5-faa11fa4f45a",
   "metadata": {},
   "outputs": [],
   "source": [
    "pipeline = pipeline(\n",
    "    \"text2text-generation\",\n",
    "    model=model, \n",
    "    tokenizer=tokenizer, \n",
    "    max_length=128\n",
    ")\n",
    "\n",
    "local_llm = HuggingFacePipeline(pipeline=pipeline)"
   ]
  },
  {
   "cell_type": "code",
   "execution_count": 18,
   "id": "08a8701c-80ff-4ae8-8a33-df6995447f5f",
   "metadata": {},
   "outputs": [],
   "source": [
    "prompt_template = \"\"\" Use the following pieces of context and your knowledge of Robinson Crusoe: Adventures on the Cursed Island to answer the question at the end. If you don't know the answer, just say that you don't know, don't try to make up an answer.\n",
    "\n",
    "{context}\n",
    "\n",
    "Question: {question}\n",
    "Answer the question: \"\"\"\n",
    "\n",
    "PROMPT = PromptTemplate(\n",
    "    template=prompt_template, input_variables=[\"context\", \"question\"]\n",
    ")"
   ]
  },
  {
   "cell_type": "code",
   "execution_count": 19,
   "id": "70762a2d-217b-49e4-9cd1-3c142468998d",
   "metadata": {},
   "outputs": [],
   "source": [
    "query = \"How does combat work?\"\n",
    "docs = db.similarity_search(query)"
   ]
  },
  {
   "cell_type": "code",
   "execution_count": 20,
   "id": "99076909-36bc-4a6b-a0b4-02a059b960ed",
   "metadata": {},
   "outputs": [],
   "source": [
    "chain = load_qa_chain(local_llm, chain_type=\"stuff\", prompt=PROMPT)"
   ]
  },
  {
   "cell_type": "code",
   "execution_count": 22,
   "id": "33b392f2-0b08-49ea-a868-069de611e900",
   "metadata": {},
   "outputs": [
    {
     "name": "stdout",
     "output_type": "stream",
     "text": [
      "The combat procedure is identical to combat caused by other situations. Once combat commences, the Action is complete. enemy’s strength.\n"
     ]
    }
   ],
   "source": [
    "print(chain.run(input_documents=docs, question=query))"
   ]
  },
  {
   "cell_type": "code",
   "execution_count": 22,
   "id": "aa68d82d-a74e-4584-b343-5a2f2ad0aca2",
   "metadata": {
    "hide_input": false
   },
   "outputs": [],
   "source": [
    "OPENAI_API_KEY = os.environ.get('OPENAI_API_KEY')"
   ]
  },
  {
   "cell_type": "code",
   "execution_count": 23,
   "id": "35b7f439-0118-46e4-8469-8644b4f1ec0b",
   "metadata": {},
   "outputs": [],
   "source": [
    "llm = OpenAI(temperature=.07, openai_api_key=OPENAI_API_KEY)\n",
    "chain = load_qa_chain(llm, chain_type=\"stuff\", prompt=PROMPT)"
   ]
  },
  {
   "cell_type": "code",
   "execution_count": 25,
   "id": "b20f1674-bb3d-4e37-af41-7870f99a9e01",
   "metadata": {},
   "outputs": [
    {
     "name": "stdout",
     "output_type": "stream",
     "text": [
      "\n",
      "Combat is resolved by following the steps printed left to right on the card. The character owning the topmost Action pawn resolves the Action, and then the topmost Beast card is drawn from the Hunting deck and combat commences. During combat, the group can fight a beast to collect food and/or fur, and the resolving character will take wounds if the Weapon level is not high enough. The Threat Effect is prevented by resolving the card.\n"
     ]
    }
   ],
   "source": [
    "print(chain.run(input_documents=docs, question=query))"
   ]
  },
  {
   "cell_type": "code",
   "execution_count": null,
   "id": "6162b049-c187-4c25-91a2-429b25128d87",
   "metadata": {},
   "outputs": [],
   "source": []
  }
 ],
 "metadata": {
  "kernelspec": {
   "display_name": "Python 3 (ipykernel)",
   "language": "python",
   "name": "python3"
  },
  "language_info": {
   "codemirror_mode": {
    "name": "ipython",
    "version": 3
   },
   "file_extension": ".py",
   "mimetype": "text/x-python",
   "name": "python",
   "nbconvert_exporter": "python",
   "pygments_lexer": "ipython3",
   "version": "3.10.12"
  }
 },
 "nbformat": 4,
 "nbformat_minor": 5
}
